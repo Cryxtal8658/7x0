{
  "metadata": {
    "language_info": {
      "codemirror_mode": {
        "name": "python",
        "version": 3
      },
      "file_extension": ".py",
      "mimetype": "text/x-python",
      "name": "python",
      "nbconvert_exporter": "python",
      "pygments_lexer": "ipython3",
      "version": "3.8"
    },
    "kernelspec": {
      "name": "python",
      "display_name": "Python (Pyodide)",
      "language": "python"
    }
  },
  "nbformat_minor": 4,
  "nbformat": 4,
  "cells": [
    {
      "cell_type": "markdown",
      "source": "# Data Science Tools and Ecosystem",
      "metadata": {}
    },
    {
      "cell_type": "markdown",
      "source": "In this notebook, Data Science Tools and Ecosystem are summarized.",
      "metadata": {}
    },
    {
      "cell_type": "markdown",
      "source": "Some of the popular languages that Data Scientists use are:\n    \n    \n    ",
      "metadata": {}
    },
    {
      "cell_type": "markdown",
      "source": "    1. Python \n    2. R lanugage\n    3. SQL\n    Other Languages includes:\n    4. Scala\n    5. Java\n    6. C++",
      "metadata": {}
    },
    {
      "cell_type": "markdown",
      "source": "Some of the commonly used libraries used by Data Scientists include:",
      "metadata": {}
    },
    {
      "cell_type": "markdown",
      "source": "1. Python Libraries\n2. Scientific Computing Libraries\n3. VIsualization Libraries\n4. Machine Learning and Deep Learning Libraries",
      "metadata": {}
    },
    {
      "cell_type": "markdown",
      "source": "# Data Science Tool Table",
      "metadata": {}
    },
    {
      "cell_type": "markdown",
      "source": "|No  | Categories             |   Types             |\n|-   | ----------------       |   ------------------|\n|1   | Relational Databases   |   MySQL             |\n|2   | NoSQL Databases        |   MangoDB           |\n|3   | File Based Tools       |   Hadoop File System|\n|4   | Cloud File Systems     |   Ceph              |",
      "metadata": {}
    },
    {
      "cell_type": "markdown",
      "source": "### Below are a few examples of evaluating arithmetic expressions in Python",
      "metadata": {}
    },
    {
      "cell_type": "markdown",
      "source": "This is pythogorus theorem\n$ x^2 + y^2 = z^2 $",
      "metadata": {}
    },
    {
      "cell_type": "markdown",
      "source": "This a simple arithmetic expression to mutiply ",
      "metadata": {}
    },
    {
      "cell_type": "markdown",
      "source": "(3*4)+5",
      "metadata": {}
    },
    {
      "cell_type": "markdown",
      "source": "#multiplication\n3*4",
      "metadata": {}
    },
    {
      "cell_type": "markdown",
      "source": "#addition + 5",
      "metadata": {}
    },
    {
      "cell_type": "markdown",
      "source": "=17\n",
      "metadata": {}
    },
    {
      "cell_type": "markdown",
      "source": "200 / 60",
      "metadata": {}
    },
    {
      "cell_type": "markdown",
      "source": "= 3.3",
      "metadata": {}
    },
    {
      "cell_type": "markdown",
      "source": "# List popular languages for Data Science",
      "metadata": {}
    },
    {
      "cell_type": "markdown",
      "source": "1. Python \n2. R lanugage\n3. SQL",
      "metadata": {}
    },
    {
      "cell_type": "markdown",
      "source": "## Author Name",
      "metadata": {}
    },
    {
      "cell_type": "markdown",
      "source": "Ayomide Tolulope Emmanuel",
      "metadata": {}
    },
    {
      "cell_type": "code",
      "source": "",
      "metadata": {},
      "execution_count": null,
      "outputs": []
    }
  ]
}